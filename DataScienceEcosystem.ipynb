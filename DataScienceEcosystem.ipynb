{
 "cells": [
  {
   "cell_type": "markdown",
   "id": "5045c88a-7271-44cb-a593-c705a27ba31a",
   "metadata": {},
   "source": [
    "# Data Science Tools and Ecosystem"
   ]
  },
  {
   "cell_type": "markdown",
   "id": "0141cbac-1154-42e6-9047-48fe49e2052f",
   "metadata": {},
   "source": [
    "En este cuaderno, se resumen las herramientas y ecosistemas de ciencia de datos."
   ]
  },
  {
   "cell_type": "markdown",
   "id": "c0e5759c-d76f-41f4-a659-69fe2cdff766",
   "metadata": {},
   "source": [
    "__Objetivos:__\n",
    "\n",
    "- R\n",
    "- Python\n",
    "- Julia\n"
   ]
  },
  {
   "cell_type": "markdown",
   "id": "6bf1ca8b-b09a-4e80-a46e-bca67b6b72fd",
   "metadata": {},
   "source": [
    "Algunos de los lenguajes populares que utilizan los científicos de datos son:"
   ]
  },
  {
   "cell_type": "markdown",
   "id": "9848a004-a01b-4155-a839-d536ca937d49",
   "metadata": {},
   "source": [
    "1. Python\n",
    "2. Java\n",
    "3. C"
   ]
  },
  {
   "cell_type": "markdown",
   "id": "70640c1e-9bd4-4f78-b3f6-a7203757568b",
   "metadata": {},
   "source": [
    "| Herramientas de Ciencia de Datos |\n",
    "|----------------------------------|\n",
    "|scikit-learn|\n",
    "|TensorFlow|\n",
    "|Keras|"
   ]
  },
  {
   "cell_type": "markdown",
   "id": "769e8852-b171-495c-b548-d44043044c99",
   "metadata": {},
   "source": [
    "### A continuación, se presentan algunos ejemplos de evaluación de expresiones aritméticas en Python"
   ]
  },
  {
   "cell_type": "markdown",
   "id": "a9f2565d-3d47-43b2-8b36-0eb3106e1ad2",
   "metadata": {},
   "source": [
    "Esta es una expresión aritmética simple para multiplicar y luego sumar enteros"
   ]
  },
  {
   "cell_type": "code",
   "execution_count": 22,
   "id": "9ffd9ea6-76ff-43d0-9e4c-77ed6333ec29",
   "metadata": {},
   "outputs": [
    {
     "data": {
      "text/plain": [
       "17"
      ]
     },
     "execution_count": 22,
     "metadata": {},
     "output_type": "execute_result"
    }
   ],
   "source": [
    "(3*4)+5"
   ]
  },
  {
   "cell_type": "markdown",
   "id": "dc191916-56d0-40d6-97da-196e17961482",
   "metadata": {},
   "source": [
    "Esto convertirá 200 minutos a horas dividiendo por 60"
   ]
  },
  {
   "cell_type": "code",
   "execution_count": 25,
   "id": "134be6f1-492c-4b28-8fff-afb31d2aafff",
   "metadata": {},
   "outputs": [
    {
     "data": {
      "text/plain": [
       "3.3333333333333335"
      ]
     },
     "execution_count": 25,
     "metadata": {},
     "output_type": "execute_result"
    }
   ],
   "source": [
    "200/60"
   ]
  },
  {
   "cell_type": "markdown",
   "id": "e6ab85af-e9c6-4228-9af8-a5e216031eea",
   "metadata": {},
   "source": [
    "## Autor\n",
    "Monica "
   ]
  },
  {
   "cell_type": "code",
   "execution_count": null,
   "id": "7c8131a1-d6b9-48d2-9b79-aa53582822f1",
   "metadata": {},
   "outputs": [],
   "source": []
  }
 ],
 "metadata": {
  "kernelspec": {
   "display_name": "Python [conda env:base] *",
   "language": "python",
   "name": "conda-base-py"
  },
  "language_info": {
   "codemirror_mode": {
    "name": "ipython",
    "version": 3
   },
   "file_extension": ".py",
   "mimetype": "text/x-python",
   "name": "python",
   "nbconvert_exporter": "python",
   "pygments_lexer": "ipython3",
   "version": "3.12.7"
  }
 },
 "nbformat": 4,
 "nbformat_minor": 5
}
